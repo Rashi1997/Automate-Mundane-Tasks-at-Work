{
 "cells": [
  {
   "cell_type": "code",
   "execution_count": 1,
   "metadata": {},
   "outputs": [],
   "source": [
    "import os\n",
    "import ntpath\n",
    "import xml.etree.ElementTree as ET\n",
    "import pandas as pd\n",
    "from pandas import ExcelWriter\n",
    "from pandas import ExcelFile\n",
    "itemTypes=['ImageItem','BarcodeItem','TextItem']\n",
    "def Remove(duplicate): \n",
    "    final_list = [] \n",
    "    for num in duplicate: \n",
    "        if num not in final_list: \n",
    "            final_list.append(num) \n",
    "    return final_list"
   ]
  },
  {
   "cell_type": "code",
   "execution_count": 2,
   "metadata": {},
   "outputs": [],
   "source": [
    "path = 'C:\\\\Users\\\\Rashi\\\\Desktop\\\\cacheid list\\\\Corrected Labels'\n",
    "folders = []\n",
    "# r=root, d=directories, f = files\n",
    "for r, d, f in os.walk(path):\n",
    "    for folder in d:\n",
    "        folders.append(os.path.join(r, folder))\n",
    "writer = ExcelWriter('listOfCacheIds.xlsx')\n",
    "for f in folders:\n",
    "    files = []\n",
    "    # r=root, d=directories, f = files\n",
    "    for r, d, fle in os.walk(f):\n",
    "        for file in fle:\n",
    "            if '.xml' in file:\n",
    "                files.append(os.path.join(r, file))\n",
    "    cacheids=list(str())\n",
    "    filen=list()\n",
    "    for fil in files:\n",
    "        tree = ET.parse(fil)\n",
    "        root = tree.getroot()\n",
    "        caid=list(str())\n",
    "        for it in itemTypes:\n",
    "            for neighbor in root.iter(it):\n",
    "                caid.append(neighbor.attrib['CacheItemId'])\n",
    "                #print(caid)\n",
    "        caid = [i for i in caid if i]\n",
    "        caid=Remove(caid)\n",
    "\n",
    "        for c in caid : \n",
    "            cacheids.append(c)\n",
    "        lof=[ntpath.basename(fil)] * len(caid)\n",
    "        for l in lof : \n",
    "            filen.append(l)\n",
    "    df=pd.DataFrame({'Cacheid':cacheids,\n",
    "                'Label':filen})\n",
    "    df.to_excel(writer,ntpath.basename(f),index=False)\n",
    "writer.save()"
   ]
  },
  {
   "cell_type": "code",
   "execution_count": null,
   "metadata": {},
   "outputs": [],
   "source": []
  },
  {
   "cell_type": "code",
   "execution_count": null,
   "metadata": {},
   "outputs": [],
   "source": []
  }
 ],
 "metadata": {
  "kernelspec": {
   "display_name": "Python 3",
   "language": "python",
   "name": "python3"
  },
  "language_info": {
   "codemirror_mode": {
    "name": "ipython",
    "version": 3
   },
   "file_extension": ".py",
   "mimetype": "text/x-python",
   "name": "python",
   "nbconvert_exporter": "python",
   "pygments_lexer": "ipython3",
   "version": "3.7.3"
  }
 },
 "nbformat": 4,
 "nbformat_minor": 2
}
